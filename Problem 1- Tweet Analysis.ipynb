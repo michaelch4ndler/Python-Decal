{
 "cells": [
  {
   "cell_type": "code",
   "execution_count": 1,
   "id": "90ee00f8",
   "metadata": {},
   "outputs": [],
   "source": [
    "import pandas as pd\n",
    "import numpy as np"
   ]
  },
  {
   "cell_type": "code",
   "execution_count": null,
   "id": "7089cde5",
   "metadata": {},
   "outputs": [],
   "source": [
    "tweets_df = pd.read_csv(\"AOC_recent_tweets.txt\")"
   ]
  },
  {
   "cell_type": "code",
   "execution_count": null,
   "id": "c2ea7902",
   "metadata": {},
   "outputs": [],
   "source": [
    "tweets_df.set_index('id', inplace=True)"
   ]
  },
  {
   "cell_type": "code",
   "execution_count": null,
   "id": "b95ba8c0",
   "metadata": {},
   "outputs": [],
   "source": [
    "print(tweets_df)"
   ]
  },
  {
   "cell_type": "code",
   "execution_count": null,
   "id": "40ed9fc2",
   "metadata": {},
   "outputs": [],
   "source": [
    "def time_in_hours(datetime_column):\n",
    "    return datetime_column.dt.hour + datetime_column.dt.minute / 60 + datetime_column.dt.second / 3600"
   ]
  },
  {
   "cell_type": "code",
   "execution_count": null,
   "id": "27844d53",
   "metadata": {},
   "outputs": [],
   "source": [
    "tweets_df['hours'] = time_in_hours(pd.to_datetime(tweets_df['created_at']))"
   ]
  },
  {
   "cell_type": "code",
   "execution_count": null,
   "id": "03268a6a",
   "metadata": {},
   "outputs": [],
   "source": [
    "print(tweets_df[['created_at', 'hours', 'full_text']])"
   ]
  },
  {
   "cell_type": "code",
   "execution_count": null,
   "id": "8d9cc022",
   "metadata": {},
   "outputs": [],
   "source": [
    "tweets_df[['created_at', 'hours', 'full_text']].to_csv('tweets_data.csv', index=False)"
   ]
  },
  {
   "cell_type": "code",
   "execution_count": null,
   "id": "6b188b70",
   "metadata": {},
   "outputs": [],
   "source": []
  }
 ],
 "metadata": {
  "kernelspec": {
   "display_name": "Python 3 (ipykernel)",
   "language": "python",
   "name": "python3"
  },
  "language_info": {
   "codemirror_mode": {
    "name": "ipython",
    "version": 3
   },
   "file_extension": ".py",
   "mimetype": "text/x-python",
   "name": "python",
   "nbconvert_exporter": "python",
   "pygments_lexer": "ipython3",
   "version": "3.11.5"
  }
 },
 "nbformat": 4,
 "nbformat_minor": 5
}
